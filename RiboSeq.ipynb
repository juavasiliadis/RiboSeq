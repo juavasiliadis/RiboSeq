{
 "cells": [
  {
   "cell_type": "markdown",
   "metadata": {
    "id": "hrcQE6R9zU6A"
   },
   "source": [
    "# HW Юлия Терентьева, АДБМ-19"
   ]
  },
  {
   "cell_type": "code",
   "execution_count": 2,
   "metadata": {
    "colab": {
     "base_uri": "https://localhost:8080/"
    },
    "id": "uqCbU_Xhzjtv",
    "outputId": "ab48495e-49c3-4f30-e229-8c61785f8d73"
   },
   "outputs": [
    {
     "name": "stdout",
     "output_type": "stream",
     "text": [
      "Requirement already satisfied: bcbio-gff in /usr/local/lib/python3.6/dist-packages (0.6.6)\n",
      "Requirement already satisfied: six in /usr/local/lib/python3.6/dist-packages (from bcbio-gff) (1.15.0)\n",
      "Requirement already satisfied: biopython in /usr/local/lib/python3.6/dist-packages (1.78)\n",
      "Requirement already satisfied: numpy in /usr/local/lib/python3.6/dist-packages (from biopython) (1.18.5)\n"
     ]
    }
   ],
   "source": [
    "!pip install bcbio-gff\n",
    "!pip install biopython"
   ]
  },
  {
   "cell_type": "code",
   "execution_count": 3,
   "metadata": {
    "id": "OthXgzPfQrFH"
   },
   "outputs": [],
   "source": [
    "import pandas as pd\n",
    "import numpy as np\n",
    "import seaborn as sns\n",
    "import matplotlib.pyplot as plt\n",
    "from BCBio import GFF"
   ]
  },
  {
   "cell_type": "code",
   "execution_count": 6,
   "metadata": {
    "colab": {
     "base_uri": "https://localhost:8080/",
     "height": 281
    },
    "id": "kds_phpIQrFJ",
    "outputId": "89486d4a-f75b-471c-b8c8-4663eec8ae53"
   },
   "outputs": [
    {
     "data": {
      "text/html": [
       "<div>\n",
       "<style scoped>\n",
       "    .dataframe tbody tr th:only-of-type {\n",
       "        vertical-align: middle;\n",
       "    }\n",
       "\n",
       "    .dataframe tbody tr th {\n",
       "        vertical-align: top;\n",
       "    }\n",
       "\n",
       "    .dataframe thead th {\n",
       "        text-align: right;\n",
       "    }\n",
       "</style>\n",
       "<table border=\"1\" class=\"dataframe\">\n",
       "  <thead>\n",
       "    <tr style=\"text-align: right;\">\n",
       "      <th></th>\n",
       "      <th>geneID</th>\n",
       "      <th>LC001-normal-RPF</th>\n",
       "      <th>LC001-tumor-RPF</th>\n",
       "      <th>LC001-normal-RNA</th>\n",
       "      <th>LC001-tumor-RNA</th>\n",
       "      <th>LC033-normal-RPF</th>\n",
       "      <th>LC033-tumor-RPF</th>\n",
       "      <th>LC033-normal-RNA</th>\n",
       "      <th>LC033-tumor-RNA</th>\n",
       "      <th>LC034-normal-RPF</th>\n",
       "      <th>LC034-tumor-RPF</th>\n",
       "      <th>LC034-normal-RNA</th>\n",
       "      <th>LC034-tumor-RNA</th>\n",
       "      <th>LC501-normal-RPF</th>\n",
       "      <th>LC501-tumor-RPF</th>\n",
       "      <th>LC501-normal-RNA</th>\n",
       "      <th>LC501-tumor-RNA</th>\n",
       "      <th>LC502-normal-RPF</th>\n",
       "      <th>LC502-tumor-RPF</th>\n",
       "      <th>LC502-normal-RNA</th>\n",
       "      <th>LC502-tumor-RNA</th>\n",
       "      <th>LC505-normal-RPF</th>\n",
       "      <th>LC505-tumor-RPF</th>\n",
       "      <th>LC505-normal-RNA</th>\n",
       "      <th>LC505-tumor-RNA</th>\n",
       "      <th>LC506-normal-RPF</th>\n",
       "      <th>LC506-tumor-RPF</th>\n",
       "      <th>LC506-normal-RNA</th>\n",
       "      <th>LC506-tumor-RNA</th>\n",
       "      <th>LC507-normal-RPF</th>\n",
       "      <th>LC507-tumor-RPF</th>\n",
       "      <th>LC507-normal-RNA</th>\n",
       "      <th>LC507-tumor-RNA</th>\n",
       "      <th>LC508-normal-RPF</th>\n",
       "      <th>LC508-tumor-RPF</th>\n",
       "      <th>LC508-normal-RNA</th>\n",
       "      <th>LC508-tumor-RNA</th>\n",
       "      <th>LC509-normal-RPF</th>\n",
       "      <th>LC509-tumor-RPF</th>\n",
       "      <th>LC509-normal-RNA</th>\n",
       "      <th>LC509-tumor-RNA</th>\n",
       "    </tr>\n",
       "    <tr>\n",
       "      <th>geneSymbol</th>\n",
       "      <th></th>\n",
       "      <th></th>\n",
       "      <th></th>\n",
       "      <th></th>\n",
       "      <th></th>\n",
       "      <th></th>\n",
       "      <th></th>\n",
       "      <th></th>\n",
       "      <th></th>\n",
       "      <th></th>\n",
       "      <th></th>\n",
       "      <th></th>\n",
       "      <th></th>\n",
       "      <th></th>\n",
       "      <th></th>\n",
       "      <th></th>\n",
       "      <th></th>\n",
       "      <th></th>\n",
       "      <th></th>\n",
       "      <th></th>\n",
       "      <th></th>\n",
       "      <th></th>\n",
       "      <th></th>\n",
       "      <th></th>\n",
       "      <th></th>\n",
       "      <th></th>\n",
       "      <th></th>\n",
       "      <th></th>\n",
       "      <th></th>\n",
       "      <th></th>\n",
       "      <th></th>\n",
       "      <th></th>\n",
       "      <th></th>\n",
       "      <th></th>\n",
       "      <th></th>\n",
       "      <th></th>\n",
       "      <th></th>\n",
       "      <th></th>\n",
       "      <th></th>\n",
       "      <th></th>\n",
       "      <th></th>\n",
       "    </tr>\n",
       "  </thead>\n",
       "  <tbody>\n",
       "    <tr>\n",
       "      <th>TSPAN6</th>\n",
       "      <td>ENSG00000000003.14</td>\n",
       "      <td>0</td>\n",
       "      <td>0</td>\n",
       "      <td>402</td>\n",
       "      <td>873</td>\n",
       "      <td>0</td>\n",
       "      <td>0</td>\n",
       "      <td>301</td>\n",
       "      <td>1627</td>\n",
       "      <td>0</td>\n",
       "      <td>0</td>\n",
       "      <td>258</td>\n",
       "      <td>65</td>\n",
       "      <td>0</td>\n",
       "      <td>0</td>\n",
       "      <td>226</td>\n",
       "      <td>353</td>\n",
       "      <td>0</td>\n",
       "      <td>0</td>\n",
       "      <td>208</td>\n",
       "      <td>399</td>\n",
       "      <td>0</td>\n",
       "      <td>0</td>\n",
       "      <td>153</td>\n",
       "      <td>361</td>\n",
       "      <td>0</td>\n",
       "      <td>0</td>\n",
       "      <td>157</td>\n",
       "      <td>333</td>\n",
       "      <td>0</td>\n",
       "      <td>0</td>\n",
       "      <td>218</td>\n",
       "      <td>457</td>\n",
       "      <td>0</td>\n",
       "      <td>0</td>\n",
       "      <td>200</td>\n",
       "      <td>889</td>\n",
       "      <td>0</td>\n",
       "      <td>0</td>\n",
       "      <td>161</td>\n",
       "      <td>857.0</td>\n",
       "    </tr>\n",
       "    <tr>\n",
       "      <th>TNMD</th>\n",
       "      <td>ENSG00000000005.5</td>\n",
       "      <td>0</td>\n",
       "      <td>0</td>\n",
       "      <td>0</td>\n",
       "      <td>1</td>\n",
       "      <td>0</td>\n",
       "      <td>0</td>\n",
       "      <td>0</td>\n",
       "      <td>1</td>\n",
       "      <td>0</td>\n",
       "      <td>0</td>\n",
       "      <td>0</td>\n",
       "      <td>0</td>\n",
       "      <td>0</td>\n",
       "      <td>0</td>\n",
       "      <td>0</td>\n",
       "      <td>0</td>\n",
       "      <td>0</td>\n",
       "      <td>2</td>\n",
       "      <td>3</td>\n",
       "      <td>0</td>\n",
       "      <td>0</td>\n",
       "      <td>0</td>\n",
       "      <td>0</td>\n",
       "      <td>0</td>\n",
       "      <td>0</td>\n",
       "      <td>0</td>\n",
       "      <td>0</td>\n",
       "      <td>0</td>\n",
       "      <td>0</td>\n",
       "      <td>0</td>\n",
       "      <td>0</td>\n",
       "      <td>0</td>\n",
       "      <td>1</td>\n",
       "      <td>0</td>\n",
       "      <td>0</td>\n",
       "      <td>0</td>\n",
       "      <td>0</td>\n",
       "      <td>0</td>\n",
       "      <td>0</td>\n",
       "      <td>NaN</td>\n",
       "    </tr>\n",
       "    <tr>\n",
       "      <th>DPM1</th>\n",
       "      <td>ENSG00000000419.12</td>\n",
       "      <td>168</td>\n",
       "      <td>239</td>\n",
       "      <td>88</td>\n",
       "      <td>187</td>\n",
       "      <td>114</td>\n",
       "      <td>439</td>\n",
       "      <td>66</td>\n",
       "      <td>201</td>\n",
       "      <td>325</td>\n",
       "      <td>117</td>\n",
       "      <td>80</td>\n",
       "      <td>16</td>\n",
       "      <td>106</td>\n",
       "      <td>192</td>\n",
       "      <td>54</td>\n",
       "      <td>165</td>\n",
       "      <td>118</td>\n",
       "      <td>292</td>\n",
       "      <td>57</td>\n",
       "      <td>174</td>\n",
       "      <td>159</td>\n",
       "      <td>237</td>\n",
       "      <td>61</td>\n",
       "      <td>155</td>\n",
       "      <td>149</td>\n",
       "      <td>230</td>\n",
       "      <td>104</td>\n",
       "      <td>114</td>\n",
       "      <td>169</td>\n",
       "      <td>260</td>\n",
       "      <td>92</td>\n",
       "      <td>170</td>\n",
       "      <td>109</td>\n",
       "      <td>357</td>\n",
       "      <td>60</td>\n",
       "      <td>244</td>\n",
       "      <td>141</td>\n",
       "      <td>173</td>\n",
       "      <td>56</td>\n",
       "      <td>83.0</td>\n",
       "    </tr>\n",
       "    <tr>\n",
       "      <th>SCYL3</th>\n",
       "      <td>ENSG00000000457.13</td>\n",
       "      <td>65</td>\n",
       "      <td>121</td>\n",
       "      <td>60</td>\n",
       "      <td>106</td>\n",
       "      <td>36</td>\n",
       "      <td>163</td>\n",
       "      <td>70</td>\n",
       "      <td>156</td>\n",
       "      <td>130</td>\n",
       "      <td>76</td>\n",
       "      <td>77</td>\n",
       "      <td>67</td>\n",
       "      <td>34</td>\n",
       "      <td>43</td>\n",
       "      <td>78</td>\n",
       "      <td>68</td>\n",
       "      <td>84</td>\n",
       "      <td>221</td>\n",
       "      <td>97</td>\n",
       "      <td>128</td>\n",
       "      <td>74</td>\n",
       "      <td>185</td>\n",
       "      <td>76</td>\n",
       "      <td>185</td>\n",
       "      <td>65</td>\n",
       "      <td>98</td>\n",
       "      <td>114</td>\n",
       "      <td>74</td>\n",
       "      <td>81</td>\n",
       "      <td>105</td>\n",
       "      <td>127</td>\n",
       "      <td>176</td>\n",
       "      <td>67</td>\n",
       "      <td>176</td>\n",
       "      <td>55</td>\n",
       "      <td>261</td>\n",
       "      <td>64</td>\n",
       "      <td>100</td>\n",
       "      <td>68</td>\n",
       "      <td>176.0</td>\n",
       "    </tr>\n",
       "    <tr>\n",
       "      <th>C1orf112</th>\n",
       "      <td>ENSG00000000460.16</td>\n",
       "      <td>8</td>\n",
       "      <td>43</td>\n",
       "      <td>18</td>\n",
       "      <td>70</td>\n",
       "      <td>16</td>\n",
       "      <td>76</td>\n",
       "      <td>4</td>\n",
       "      <td>63</td>\n",
       "      <td>44</td>\n",
       "      <td>14</td>\n",
       "      <td>60</td>\n",
       "      <td>4</td>\n",
       "      <td>5</td>\n",
       "      <td>27</td>\n",
       "      <td>17</td>\n",
       "      <td>112</td>\n",
       "      <td>24</td>\n",
       "      <td>42</td>\n",
       "      <td>28</td>\n",
       "      <td>14</td>\n",
       "      <td>10</td>\n",
       "      <td>71</td>\n",
       "      <td>8</td>\n",
       "      <td>118</td>\n",
       "      <td>18</td>\n",
       "      <td>103</td>\n",
       "      <td>25</td>\n",
       "      <td>98</td>\n",
       "      <td>79</td>\n",
       "      <td>225</td>\n",
       "      <td>124</td>\n",
       "      <td>437</td>\n",
       "      <td>7</td>\n",
       "      <td>167</td>\n",
       "      <td>34</td>\n",
       "      <td>201</td>\n",
       "      <td>6</td>\n",
       "      <td>61</td>\n",
       "      <td>9</td>\n",
       "      <td>58.0</td>\n",
       "    </tr>\n",
       "  </tbody>\n",
       "</table>\n",
       "</div>"
      ],
      "text/plain": [
       "                        geneID  ...  LC509-tumor-RNA\n",
       "geneSymbol                      ...                 \n",
       "TSPAN6      ENSG00000000003.14  ...            857.0\n",
       "TNMD         ENSG00000000005.5  ...              NaN\n",
       "DPM1        ENSG00000000419.12  ...             83.0\n",
       "SCYL3       ENSG00000000457.13  ...            176.0\n",
       "C1orf112    ENSG00000000460.16  ...             58.0\n",
       "\n",
       "[5 rows x 41 columns]"
      ]
     },
     "execution_count": 6,
     "metadata": {
      "tags": []
     },
     "output_type": "execute_result"
    }
   ],
   "source": [
    "expressions = pd.read_csv('01. RiboSeq_RNASeq_HCC_counts.tsv',sep = '\\t', index_col = 1)\n",
    "expressions.head()"
   ]
  },
  {
   "cell_type": "code",
   "execution_count": 7,
   "metadata": {
    "id": "JaGjyUD6QrFJ"
   },
   "outputs": [],
   "source": [
    "del expressions['geneID']"
   ]
  },
  {
   "cell_type": "code",
   "execution_count": 8,
   "metadata": {
    "colab": {
     "base_uri": "https://localhost:8080/",
     "height": 281
    },
    "id": "_NIhVAJhQrFJ",
    "outputId": "02eafeff-e8f2-42df-b633-e5d4c7a404f3"
   },
   "outputs": [
    {
     "data": {
      "text/html": [
       "<div>\n",
       "<style scoped>\n",
       "    .dataframe tbody tr th:only-of-type {\n",
       "        vertical-align: middle;\n",
       "    }\n",
       "\n",
       "    .dataframe tbody tr th {\n",
       "        vertical-align: top;\n",
       "    }\n",
       "\n",
       "    .dataframe thead th {\n",
       "        text-align: right;\n",
       "    }\n",
       "</style>\n",
       "<table border=\"1\" class=\"dataframe\">\n",
       "  <thead>\n",
       "    <tr style=\"text-align: right;\">\n",
       "      <th></th>\n",
       "      <th>LC001-normal-RPF</th>\n",
       "      <th>LC001-tumor-RPF</th>\n",
       "      <th>LC001-normal-RNA</th>\n",
       "      <th>LC001-tumor-RNA</th>\n",
       "      <th>LC033-normal-RPF</th>\n",
       "      <th>LC033-tumor-RPF</th>\n",
       "      <th>LC033-normal-RNA</th>\n",
       "      <th>LC033-tumor-RNA</th>\n",
       "      <th>LC034-normal-RPF</th>\n",
       "      <th>LC034-tumor-RPF</th>\n",
       "      <th>LC034-normal-RNA</th>\n",
       "      <th>LC034-tumor-RNA</th>\n",
       "      <th>LC501-normal-RPF</th>\n",
       "      <th>LC501-tumor-RPF</th>\n",
       "      <th>LC501-normal-RNA</th>\n",
       "      <th>LC501-tumor-RNA</th>\n",
       "      <th>LC502-normal-RPF</th>\n",
       "      <th>LC502-tumor-RPF</th>\n",
       "      <th>LC502-normal-RNA</th>\n",
       "      <th>LC502-tumor-RNA</th>\n",
       "      <th>LC505-normal-RPF</th>\n",
       "      <th>LC505-tumor-RPF</th>\n",
       "      <th>LC505-normal-RNA</th>\n",
       "      <th>LC505-tumor-RNA</th>\n",
       "      <th>LC506-normal-RPF</th>\n",
       "      <th>LC506-tumor-RPF</th>\n",
       "      <th>LC506-normal-RNA</th>\n",
       "      <th>LC506-tumor-RNA</th>\n",
       "      <th>LC507-normal-RPF</th>\n",
       "      <th>LC507-tumor-RPF</th>\n",
       "      <th>LC507-normal-RNA</th>\n",
       "      <th>LC507-tumor-RNA</th>\n",
       "      <th>LC508-normal-RPF</th>\n",
       "      <th>LC508-tumor-RPF</th>\n",
       "      <th>LC508-normal-RNA</th>\n",
       "      <th>LC508-tumor-RNA</th>\n",
       "      <th>LC509-normal-RPF</th>\n",
       "      <th>LC509-tumor-RPF</th>\n",
       "      <th>LC509-normal-RNA</th>\n",
       "      <th>LC509-tumor-RNA</th>\n",
       "    </tr>\n",
       "    <tr>\n",
       "      <th>geneSymbol</th>\n",
       "      <th></th>\n",
       "      <th></th>\n",
       "      <th></th>\n",
       "      <th></th>\n",
       "      <th></th>\n",
       "      <th></th>\n",
       "      <th></th>\n",
       "      <th></th>\n",
       "      <th></th>\n",
       "      <th></th>\n",
       "      <th></th>\n",
       "      <th></th>\n",
       "      <th></th>\n",
       "      <th></th>\n",
       "      <th></th>\n",
       "      <th></th>\n",
       "      <th></th>\n",
       "      <th></th>\n",
       "      <th></th>\n",
       "      <th></th>\n",
       "      <th></th>\n",
       "      <th></th>\n",
       "      <th></th>\n",
       "      <th></th>\n",
       "      <th></th>\n",
       "      <th></th>\n",
       "      <th></th>\n",
       "      <th></th>\n",
       "      <th></th>\n",
       "      <th></th>\n",
       "      <th></th>\n",
       "      <th></th>\n",
       "      <th></th>\n",
       "      <th></th>\n",
       "      <th></th>\n",
       "      <th></th>\n",
       "      <th></th>\n",
       "      <th></th>\n",
       "      <th></th>\n",
       "      <th></th>\n",
       "    </tr>\n",
       "  </thead>\n",
       "  <tbody>\n",
       "    <tr>\n",
       "      <th>TSPAN6</th>\n",
       "      <td>0</td>\n",
       "      <td>0</td>\n",
       "      <td>402</td>\n",
       "      <td>873</td>\n",
       "      <td>0</td>\n",
       "      <td>0</td>\n",
       "      <td>301</td>\n",
       "      <td>1627</td>\n",
       "      <td>0</td>\n",
       "      <td>0</td>\n",
       "      <td>258</td>\n",
       "      <td>65</td>\n",
       "      <td>0</td>\n",
       "      <td>0</td>\n",
       "      <td>226</td>\n",
       "      <td>353</td>\n",
       "      <td>0</td>\n",
       "      <td>0</td>\n",
       "      <td>208</td>\n",
       "      <td>399</td>\n",
       "      <td>0</td>\n",
       "      <td>0</td>\n",
       "      <td>153</td>\n",
       "      <td>361</td>\n",
       "      <td>0</td>\n",
       "      <td>0</td>\n",
       "      <td>157</td>\n",
       "      <td>333</td>\n",
       "      <td>0</td>\n",
       "      <td>0</td>\n",
       "      <td>218</td>\n",
       "      <td>457</td>\n",
       "      <td>0</td>\n",
       "      <td>0</td>\n",
       "      <td>200</td>\n",
       "      <td>889</td>\n",
       "      <td>0</td>\n",
       "      <td>0</td>\n",
       "      <td>161</td>\n",
       "      <td>857.0</td>\n",
       "    </tr>\n",
       "    <tr>\n",
       "      <th>TNMD</th>\n",
       "      <td>0</td>\n",
       "      <td>0</td>\n",
       "      <td>0</td>\n",
       "      <td>1</td>\n",
       "      <td>0</td>\n",
       "      <td>0</td>\n",
       "      <td>0</td>\n",
       "      <td>1</td>\n",
       "      <td>0</td>\n",
       "      <td>0</td>\n",
       "      <td>0</td>\n",
       "      <td>0</td>\n",
       "      <td>0</td>\n",
       "      <td>0</td>\n",
       "      <td>0</td>\n",
       "      <td>0</td>\n",
       "      <td>0</td>\n",
       "      <td>2</td>\n",
       "      <td>3</td>\n",
       "      <td>0</td>\n",
       "      <td>0</td>\n",
       "      <td>0</td>\n",
       "      <td>0</td>\n",
       "      <td>0</td>\n",
       "      <td>0</td>\n",
       "      <td>0</td>\n",
       "      <td>0</td>\n",
       "      <td>0</td>\n",
       "      <td>0</td>\n",
       "      <td>0</td>\n",
       "      <td>0</td>\n",
       "      <td>0</td>\n",
       "      <td>1</td>\n",
       "      <td>0</td>\n",
       "      <td>0</td>\n",
       "      <td>0</td>\n",
       "      <td>0</td>\n",
       "      <td>0</td>\n",
       "      <td>0</td>\n",
       "      <td>NaN</td>\n",
       "    </tr>\n",
       "    <tr>\n",
       "      <th>DPM1</th>\n",
       "      <td>168</td>\n",
       "      <td>239</td>\n",
       "      <td>88</td>\n",
       "      <td>187</td>\n",
       "      <td>114</td>\n",
       "      <td>439</td>\n",
       "      <td>66</td>\n",
       "      <td>201</td>\n",
       "      <td>325</td>\n",
       "      <td>117</td>\n",
       "      <td>80</td>\n",
       "      <td>16</td>\n",
       "      <td>106</td>\n",
       "      <td>192</td>\n",
       "      <td>54</td>\n",
       "      <td>165</td>\n",
       "      <td>118</td>\n",
       "      <td>292</td>\n",
       "      <td>57</td>\n",
       "      <td>174</td>\n",
       "      <td>159</td>\n",
       "      <td>237</td>\n",
       "      <td>61</td>\n",
       "      <td>155</td>\n",
       "      <td>149</td>\n",
       "      <td>230</td>\n",
       "      <td>104</td>\n",
       "      <td>114</td>\n",
       "      <td>169</td>\n",
       "      <td>260</td>\n",
       "      <td>92</td>\n",
       "      <td>170</td>\n",
       "      <td>109</td>\n",
       "      <td>357</td>\n",
       "      <td>60</td>\n",
       "      <td>244</td>\n",
       "      <td>141</td>\n",
       "      <td>173</td>\n",
       "      <td>56</td>\n",
       "      <td>83.0</td>\n",
       "    </tr>\n",
       "    <tr>\n",
       "      <th>SCYL3</th>\n",
       "      <td>65</td>\n",
       "      <td>121</td>\n",
       "      <td>60</td>\n",
       "      <td>106</td>\n",
       "      <td>36</td>\n",
       "      <td>163</td>\n",
       "      <td>70</td>\n",
       "      <td>156</td>\n",
       "      <td>130</td>\n",
       "      <td>76</td>\n",
       "      <td>77</td>\n",
       "      <td>67</td>\n",
       "      <td>34</td>\n",
       "      <td>43</td>\n",
       "      <td>78</td>\n",
       "      <td>68</td>\n",
       "      <td>84</td>\n",
       "      <td>221</td>\n",
       "      <td>97</td>\n",
       "      <td>128</td>\n",
       "      <td>74</td>\n",
       "      <td>185</td>\n",
       "      <td>76</td>\n",
       "      <td>185</td>\n",
       "      <td>65</td>\n",
       "      <td>98</td>\n",
       "      <td>114</td>\n",
       "      <td>74</td>\n",
       "      <td>81</td>\n",
       "      <td>105</td>\n",
       "      <td>127</td>\n",
       "      <td>176</td>\n",
       "      <td>67</td>\n",
       "      <td>176</td>\n",
       "      <td>55</td>\n",
       "      <td>261</td>\n",
       "      <td>64</td>\n",
       "      <td>100</td>\n",
       "      <td>68</td>\n",
       "      <td>176.0</td>\n",
       "    </tr>\n",
       "    <tr>\n",
       "      <th>C1orf112</th>\n",
       "      <td>8</td>\n",
       "      <td>43</td>\n",
       "      <td>18</td>\n",
       "      <td>70</td>\n",
       "      <td>16</td>\n",
       "      <td>76</td>\n",
       "      <td>4</td>\n",
       "      <td>63</td>\n",
       "      <td>44</td>\n",
       "      <td>14</td>\n",
       "      <td>60</td>\n",
       "      <td>4</td>\n",
       "      <td>5</td>\n",
       "      <td>27</td>\n",
       "      <td>17</td>\n",
       "      <td>112</td>\n",
       "      <td>24</td>\n",
       "      <td>42</td>\n",
       "      <td>28</td>\n",
       "      <td>14</td>\n",
       "      <td>10</td>\n",
       "      <td>71</td>\n",
       "      <td>8</td>\n",
       "      <td>118</td>\n",
       "      <td>18</td>\n",
       "      <td>103</td>\n",
       "      <td>25</td>\n",
       "      <td>98</td>\n",
       "      <td>79</td>\n",
       "      <td>225</td>\n",
       "      <td>124</td>\n",
       "      <td>437</td>\n",
       "      <td>7</td>\n",
       "      <td>167</td>\n",
       "      <td>34</td>\n",
       "      <td>201</td>\n",
       "      <td>6</td>\n",
       "      <td>61</td>\n",
       "      <td>9</td>\n",
       "      <td>58.0</td>\n",
       "    </tr>\n",
       "  </tbody>\n",
       "</table>\n",
       "</div>"
      ],
      "text/plain": [
       "            LC001-normal-RPF  ...  LC509-tumor-RNA\n",
       "geneSymbol                    ...                 \n",
       "TSPAN6                     0  ...            857.0\n",
       "TNMD                       0  ...              NaN\n",
       "DPM1                     168  ...             83.0\n",
       "SCYL3                     65  ...            176.0\n",
       "C1orf112                   8  ...             58.0\n",
       "\n",
       "[5 rows x 40 columns]"
      ]
     },
     "execution_count": 8,
     "metadata": {
      "tags": []
     },
     "output_type": "execute_result"
    }
   ],
   "source": [
    "expressions.head()"
   ]
  },
  {
   "cell_type": "code",
   "execution_count": 9,
   "metadata": {
    "id": "nWhocj4mQrFK"
   },
   "outputs": [],
   "source": [
    "expressions_RNA = expressions.T[expressions.columns.str.endswith('RNA')].T\n",
    "expressions_RPF = expressions.T[expressions.columns.str.endswith('RPF')].T"
   ]
  },
  {
   "cell_type": "markdown",
   "metadata": {
    "id": "5ysmHKEUV4a-"
   },
   "source": [
    "# Задание 1.\n",
    "1. Для каждого гена найдите коэффициент корреляции числа каунтов между\n",
    "экспериментами RNA-Seq и Ribo-Seq. Какую корреляцию вы выберете — Пирсона или Спирмена? Обратите внимание, что перед вами не нормированные каунты. \n",
    "\n",
    "Рассчитаем коэффициент корреляции Спирмена:"
   ]
  },
  {
   "cell_type": "code",
   "execution_count": 8,
   "metadata": {
    "id": "ecLr9ds8egKv"
   },
   "outputs": [],
   "source": [
    "corr_RNA_RPF = []\n",
    "for i in range(0, expressions_RNA.shape[0]):\n",
    "  current_corr = pd.DataFrame(expressions_RNA.iloc[i].values).corrwith(pd.DataFrame(expressions_RPF.iloc[i].values), axis = 0, method = 'spearman')\n",
    "  corr_RNA_RPF.append(current_corr)"
   ]
  },
  {
   "cell_type": "code",
   "execution_count": 9,
   "metadata": {
    "id": "wxKNxqoicSLA"
   },
   "outputs": [],
   "source": [
    "corr_RNA_RPF = pd.DataFrame(corr_RNA_RPF)"
   ]
  },
  {
   "cell_type": "code",
   "execution_count": 10,
   "metadata": {
    "id": "dDfzgcSC1h6x"
   },
   "outputs": [],
   "source": [
    "df = pd.DataFrame(expressions_RNA.index.values)"
   ]
  },
  {
   "cell_type": "code",
   "execution_count": 11,
   "metadata": {
    "id": "MSQa3n5_3SbJ"
   },
   "outputs": [],
   "source": [
    "df['Corr'] = corr_RNA_RPF"
   ]
  },
  {
   "cell_type": "code",
   "execution_count": 12,
   "metadata": {
    "colab": {
     "base_uri": "https://localhost:8080/",
     "height": 407
    },
    "id": "2KAu338Q3zHV",
    "outputId": "2143c1b3-30b3-43be-8e7c-f13945975dbc"
   },
   "outputs": [
    {
     "data": {
      "text/html": [
       "<div>\n",
       "<style scoped>\n",
       "    .dataframe tbody tr th:only-of-type {\n",
       "        vertical-align: middle;\n",
       "    }\n",
       "\n",
       "    .dataframe tbody tr th {\n",
       "        vertical-align: top;\n",
       "    }\n",
       "\n",
       "    .dataframe thead th {\n",
       "        text-align: right;\n",
       "    }\n",
       "</style>\n",
       "<table border=\"1\" class=\"dataframe\">\n",
       "  <thead>\n",
       "    <tr style=\"text-align: right;\">\n",
       "      <th></th>\n",
       "      <th>geneSymbol</th>\n",
       "      <th>Corr</th>\n",
       "    </tr>\n",
       "  </thead>\n",
       "  <tbody>\n",
       "    <tr>\n",
       "      <th>0</th>\n",
       "      <td>TSPAN6</td>\n",
       "      <td>NaN</td>\n",
       "    </tr>\n",
       "    <tr>\n",
       "      <th>1</th>\n",
       "      <td>TNMD</td>\n",
       "      <td>-0.147807</td>\n",
       "    </tr>\n",
       "    <tr>\n",
       "      <th>2</th>\n",
       "      <td>DPM1</td>\n",
       "      <td>0.849624</td>\n",
       "    </tr>\n",
       "    <tr>\n",
       "      <th>3</th>\n",
       "      <td>SCYL3</td>\n",
       "      <td>0.697779</td>\n",
       "    </tr>\n",
       "    <tr>\n",
       "      <th>4</th>\n",
       "      <td>C1orf112</td>\n",
       "      <td>0.811583</td>\n",
       "    </tr>\n",
       "    <tr>\n",
       "      <th>...</th>\n",
       "      <td>...</td>\n",
       "      <td>...</td>\n",
       "    </tr>\n",
       "    <tr>\n",
       "      <th>18940</th>\n",
       "      <td>RP1-34B20.21</td>\n",
       "      <td>0.382301</td>\n",
       "    </tr>\n",
       "    <tr>\n",
       "      <th>18941</th>\n",
       "      <td>RP11-511P7.5</td>\n",
       "      <td>0.191364</td>\n",
       "    </tr>\n",
       "    <tr>\n",
       "      <th>18942</th>\n",
       "      <td>KLF18</td>\n",
       "      <td>NaN</td>\n",
       "    </tr>\n",
       "    <tr>\n",
       "      <th>18943</th>\n",
       "      <td>TRBV6-2</td>\n",
       "      <td>NaN</td>\n",
       "    </tr>\n",
       "    <tr>\n",
       "      <th>18944</th>\n",
       "      <td>RP11-736N17.11</td>\n",
       "      <td>0.443724</td>\n",
       "    </tr>\n",
       "  </tbody>\n",
       "</table>\n",
       "<p>18945 rows × 2 columns</p>\n",
       "</div>"
      ],
      "text/plain": [
       "           geneSymbol      Corr\n",
       "0              TSPAN6       NaN\n",
       "1                TNMD -0.147807\n",
       "2                DPM1  0.849624\n",
       "3               SCYL3  0.697779\n",
       "4            C1orf112  0.811583\n",
       "...               ...       ...\n",
       "18940    RP1-34B20.21  0.382301\n",
       "18941    RP11-511P7.5  0.191364\n",
       "18942           KLF18       NaN\n",
       "18943         TRBV6-2       NaN\n",
       "18944  RP11-736N17.11  0.443724\n",
       "\n",
       "[18945 rows x 2 columns]"
      ]
     },
     "execution_count": 12,
     "metadata": {
      "tags": []
     },
     "output_type": "execute_result"
    }
   ],
   "source": [
    "df.rename(columns = {0:'geneSymbol'})"
   ]
  },
  {
   "cell_type": "markdown",
   "metadata": {
    "id": "sEU6n6H85m3H"
   },
   "source": [
    "Далее удалим гены, у которых значения корреляции получились NaN. Это верно, например, для следующих генов: KLF18 (регулирует транскрипцию РНК-полимеразы II) и TRBV6-2\t(рецептор Т клеток, экспрессируется в тимусе) - маловероятно, чтобы они экспрессировались в печени."
   ]
  },
  {
   "cell_type": "markdown",
   "metadata": {
    "id": "8Mav0fKFroyT"
   },
   "source": [
    "2. Постройте гистограмму распределения этих коэффициентов корреляции. Для каких генов корреляция самая высокая, а для каких — самая низкая? Как вы можете это объяснить?\n",
    "\n",
    "Построим гистограмму коэффициентов корреляции:"
   ]
  },
  {
   "cell_type": "code",
   "execution_count": 13,
   "metadata": {
    "id": "JohcDJK_5QT_"
   },
   "outputs": [],
   "source": [
    "df.dropna(inplace=True)"
   ]
  },
  {
   "cell_type": "code",
   "execution_count": 14,
   "metadata": {
    "colab": {
     "base_uri": "https://localhost:8080/"
    },
    "id": "WIUbxs_O5Z6M",
    "outputId": "0b20491e-f038-4fec-d598-ef5867a09a39"
   },
   "outputs": [
    {
     "data": {
      "text/plain": [
       "16849"
      ]
     },
     "execution_count": 14,
     "metadata": {
      "tags": []
     },
     "output_type": "execute_result"
    }
   ],
   "source": [
    "len(df)"
   ]
  },
  {
   "cell_type": "code",
   "execution_count": 15,
   "metadata": {
    "colab": {
     "base_uri": "https://localhost:8080/",
     "height": 349
    },
    "id": "JZQpNXB6egY1",
    "outputId": "2ec34e80-0595-4c32-cebf-5669522a7b40"
   },
   "outputs": [
    {
     "name": "stderr",
     "output_type": "stream",
     "text": [
      "/usr/local/lib/python3.6/dist-packages/seaborn/distributions.py:2551: FutureWarning: `distplot` is a deprecated function and will be removed in a future version. Please adapt your code to use either `displot` (a figure-level function with similar flexibility) or `histplot` (an axes-level function for histograms).\n",
      "  warnings.warn(msg, FutureWarning)\n"
     ]
    },
    {
     "data": {
      "text/plain": [
       "<matplotlib.axes._subplots.AxesSubplot at 0x7fd8266267f0>"
      ]
     },
     "execution_count": 15,
     "metadata": {
      "tags": []
     },
     "output_type": "execute_result"
    },
    {
     "data": {
      "image/png": "[encoded data removed]",
      "text/plain": [
       "<Figure size 432x288 with 1 Axes>"
      ]
     },
     "metadata": {
      "needs_background": "light",
      "tags": []
     },
     "output_type": "display_data"
    }
   ],
   "source": [
    "sns.distplot(df['Corr'], bins = 100)"
   ]
  },
  {
   "cell_type": "markdown",
   "metadata": {
    "id": "-aXovmND9LVk"
   },
   "source": [
    "Гены с самой высокой корреляцией"
   ]
  },
  {
   "cell_type": "code",
   "execution_count": 16,
   "metadata": {
    "colab": {
     "base_uri": "https://localhost:8080/",
     "height": 557
    },
    "id": "gJOJEc-wnaJD",
    "outputId": "2759d836-1afb-49c2-c841-40c2434434bc"
   },
   "outputs": [
    {
     "data": {
      "text/html": [
       "<div>\n",
       "<style scoped>\n",
       "    .dataframe tbody tr th:only-of-type {\n",
       "        vertical-align: middle;\n",
       "    }\n",
       "\n",
       "    .dataframe tbody tr th {\n",
       "        vertical-align: top;\n",
       "    }\n",
       "\n",
       "    .dataframe thead th {\n",
       "        text-align: right;\n",
       "    }\n",
       "</style>\n",
       "<table border=\"1\" class=\"dataframe\">\n",
       "  <thead>\n",
       "    <tr style=\"text-align: right;\">\n",
       "      <th></th>\n",
       "      <th>0</th>\n",
       "      <th>Corr</th>\n",
       "    </tr>\n",
       "  </thead>\n",
       "  <tbody>\n",
       "    <tr>\n",
       "      <th>4534</th>\n",
       "      <td>PRG4</td>\n",
       "      <td>0.990977</td>\n",
       "    </tr>\n",
       "    <tr>\n",
       "      <th>5495</th>\n",
       "      <td>SCGB1D2</td>\n",
       "      <td>1.000000</td>\n",
       "    </tr>\n",
       "    <tr>\n",
       "      <th>8121</th>\n",
       "      <td>KCNA10</td>\n",
       "      <td>1.000000</td>\n",
       "    </tr>\n",
       "    <tr>\n",
       "      <th>9747</th>\n",
       "      <td>HKDC1</td>\n",
       "      <td>0.980053</td>\n",
       "    </tr>\n",
       "    <tr>\n",
       "      <th>9754</th>\n",
       "      <td>PRG3</td>\n",
       "      <td>1.000000</td>\n",
       "    </tr>\n",
       "    <tr>\n",
       "      <th>11889</th>\n",
       "      <td>CYP7A1</td>\n",
       "      <td>0.980820</td>\n",
       "    </tr>\n",
       "    <tr>\n",
       "      <th>12719</th>\n",
       "      <td>LGALS4</td>\n",
       "      <td>0.981942</td>\n",
       "    </tr>\n",
       "    <tr>\n",
       "      <th>13158</th>\n",
       "      <td>FAM46D</td>\n",
       "      <td>1.000000</td>\n",
       "    </tr>\n",
       "    <tr>\n",
       "      <th>13477</th>\n",
       "      <td>TMPRSS7</td>\n",
       "      <td>1.000000</td>\n",
       "    </tr>\n",
       "    <tr>\n",
       "      <th>13578</th>\n",
       "      <td>MAGEB6</td>\n",
       "      <td>1.000000</td>\n",
       "    </tr>\n",
       "    <tr>\n",
       "      <th>13613</th>\n",
       "      <td>TRIM60</td>\n",
       "      <td>1.000000</td>\n",
       "    </tr>\n",
       "    <tr>\n",
       "      <th>13867</th>\n",
       "      <td>DYNAP</td>\n",
       "      <td>1.000000</td>\n",
       "    </tr>\n",
       "    <tr>\n",
       "      <th>17480</th>\n",
       "      <td>GAGE10</td>\n",
       "      <td>1.000000</td>\n",
       "    </tr>\n",
       "    <tr>\n",
       "      <th>17597</th>\n",
       "      <td>ZNF735</td>\n",
       "      <td>1.000000</td>\n",
       "    </tr>\n",
       "    <tr>\n",
       "      <th>17696</th>\n",
       "      <td>IQCF3</td>\n",
       "      <td>1.000000</td>\n",
       "    </tr>\n",
       "    <tr>\n",
       "      <th>18124</th>\n",
       "      <td>RFPL4B</td>\n",
       "      <td>1.000000</td>\n",
       "    </tr>\n",
       "    <tr>\n",
       "      <th>18418</th>\n",
       "      <td>HPR</td>\n",
       "      <td>0.980451</td>\n",
       "    </tr>\n",
       "  </tbody>\n",
       "</table>\n",
       "</div>"
      ],
      "text/plain": [
       "             0      Corr\n",
       "4534      PRG4  0.990977\n",
       "5495   SCGB1D2  1.000000\n",
       "8121    KCNA10  1.000000\n",
       "9747     HKDC1  0.980053\n",
       "9754      PRG3  1.000000\n",
       "11889   CYP7A1  0.980820\n",
       "12719   LGALS4  0.981942\n",
       "13158   FAM46D  1.000000\n",
       "13477  TMPRSS7  1.000000\n",
       "13578   MAGEB6  1.000000\n",
       "13613   TRIM60  1.000000\n",
       "13867    DYNAP  1.000000\n",
       "17480   GAGE10  1.000000\n",
       "17597   ZNF735  1.000000\n",
       "17696    IQCF3  1.000000\n",
       "18124   RFPL4B  1.000000\n",
       "18418      HPR  0.980451"
      ]
     },
     "execution_count": 16,
     "metadata": {
      "tags": []
     },
     "output_type": "execute_result"
    }
   ],
   "source": [
    "df[abs(df['Corr']) >= 0.98]"
   ]
  },
  {
   "cell_type": "markdown",
   "metadata": {
    "id": "miAMDQKS9OZW"
   },
   "source": [
    "Гены с самой низкой корреляцией"
   ]
  },
  {
   "cell_type": "code",
   "execution_count": 17,
   "metadata": {
    "colab": {
     "base_uri": "https://localhost:8080/",
     "height": 407
    },
    "id": "DMH29R3W87nG",
    "outputId": "1ddf64bc-508a-45e7-d5db-cd5cea4fc62e"
   },
   "outputs": [
    {
     "data": {
      "text/html": [
       "<div>\n",
       "<style scoped>\n",
       "    .dataframe tbody tr th:only-of-type {\n",
       "        vertical-align: middle;\n",
       "    }\n",
       "\n",
       "    .dataframe tbody tr th {\n",
       "        vertical-align: top;\n",
       "    }\n",
       "\n",
       "    .dataframe thead th {\n",
       "        text-align: right;\n",
       "    }\n",
       "</style>\n",
       "<table border=\"1\" class=\"dataframe\">\n",
       "  <thead>\n",
       "    <tr style=\"text-align: right;\">\n",
       "      <th></th>\n",
       "      <th>0</th>\n",
       "      <th>Corr</th>\n",
       "    </tr>\n",
       "  </thead>\n",
       "  <tbody>\n",
       "    <tr>\n",
       "      <th>133</th>\n",
       "      <td>KDM7A</td>\n",
       "      <td>0.006396</td>\n",
       "    </tr>\n",
       "    <tr>\n",
       "      <th>155</th>\n",
       "      <td>MYH13</td>\n",
       "      <td>0.000000</td>\n",
       "    </tr>\n",
       "    <tr>\n",
       "      <th>310</th>\n",
       "      <td>PRICKLE3</td>\n",
       "      <td>-0.006795</td>\n",
       "    </tr>\n",
       "    <tr>\n",
       "      <th>450</th>\n",
       "      <td>KCNG1</td>\n",
       "      <td>0.000000</td>\n",
       "    </tr>\n",
       "    <tr>\n",
       "      <th>555</th>\n",
       "      <td>PNKP</td>\n",
       "      <td>0.003387</td>\n",
       "    </tr>\n",
       "    <tr>\n",
       "      <th>...</th>\n",
       "      <td>...</td>\n",
       "      <td>...</td>\n",
       "    </tr>\n",
       "    <tr>\n",
       "      <th>18270</th>\n",
       "      <td>SALL3</td>\n",
       "      <td>0.000000</td>\n",
       "    </tr>\n",
       "    <tr>\n",
       "      <th>18595</th>\n",
       "      <td>GPR75-ASB3</td>\n",
       "      <td>0.004293</td>\n",
       "    </tr>\n",
       "    <tr>\n",
       "      <th>18659</th>\n",
       "      <td>RP11-475E11.9</td>\n",
       "      <td>0.009879</td>\n",
       "    </tr>\n",
       "    <tr>\n",
       "      <th>18776</th>\n",
       "      <td>NEFL</td>\n",
       "      <td>0.000000</td>\n",
       "    </tr>\n",
       "    <tr>\n",
       "      <th>18834</th>\n",
       "      <td>AL354828.1</td>\n",
       "      <td>0.003919</td>\n",
       "    </tr>\n",
       "  </tbody>\n",
       "</table>\n",
       "<p>101 rows × 2 columns</p>\n",
       "</div>"
      ],
      "text/plain": [
       "                   0      Corr\n",
       "133            KDM7A  0.006396\n",
       "155            MYH13  0.000000\n",
       "310         PRICKLE3 -0.006795\n",
       "450            KCNG1  0.000000\n",
       "555             PNKP  0.003387\n",
       "...              ...       ...\n",
       "18270          SALL3  0.000000\n",
       "18595     GPR75-ASB3  0.004293\n",
       "18659  RP11-475E11.9  0.009879\n",
       "18776           NEFL  0.000000\n",
       "18834     AL354828.1  0.003919\n",
       "\n",
       "[101 rows x 2 columns]"
      ]
     },
     "execution_count": 17,
     "metadata": {
      "tags": []
     },
     "output_type": "execute_result"
    }
   ],
   "source": [
    "df[abs(df['Corr']) <= 0.01]"
   ]
  },
  {
   "cell_type": "markdown",
   "metadata": {
    "id": "yZZ7N_2T-jHc"
   },
   "source": [
    "Думаю, что RNA-seq и Ribo-seq детектировали гены, которые отвечают за окислительно-восстановительные процессы, а гены, которые не влияют на изменение уровня белка, не оказались значимыми в Ribo-seq."
   ]
  },
  {
   "cell_type": "markdown",
   "metadata": {
    "id": "Q2FkahrdXeTz"
   },
   "source": [
    "3. Найдите дифференциально экспрессированные гены по RNA-Seq между нормой и\n",
    "опухолью. Для этого можете использовать DESeq2 или edgeR (для DESeq есть обёртка на Python). Постройте volcano plot. То же самое сделайте и для Ribo-Seq эксперимента. Совпадают ли результаты дифференциальной экспрессии? Какие гены оказались значимо различны по экспрессии в одном случае, а какие — в другом? Выводы подкрепите графиками."
   ]
  },
  {
   "cell_type": "markdown",
   "metadata": {
    "id": "WbD_oZcCcKDF"
   },
   "source": [
    "Выполнила на R (см. DE_RNAseq.R)."
   ]
  },
  {
   "cell_type": "markdown",
   "metadata": {
    "id": "lS5KoA2-hRd1"
   },
   "source": [
    "# Задание 2 . Анализ wig-файла\n",
    "1. Присутствует ли в покрытии генома неравномерность? Рассмотрите неравномерность покрытия на примере любого выбранного вами гена. Что вы можете сказать про эту неравномерность? Присутствует ли там периодичность в три нуклеотида? А если взять среднее по большому количеству генов (взяв за точку отсчёта старт-кодон)? Выводы проиллюстрируйте графиками."
   ]
  },
  {
   "cell_type": "code",
   "execution_count": 4,
   "metadata": {
    "id": "WBgy4HasmmrA"
   },
   "outputs": [],
   "source": [
    "def parser(file, gsize):\n",
    "  counts = np.zeros(gsize)\n",
    "  with open(file, 'r') as file:\n",
    "    for line in file:\n",
    "      data = line.split()\n",
    "      pos, count = int(data[0]), int(data[1])\n",
    "      pos = pos - 2\n",
    "      counts[pos] = count\n",
    "    return counts\n",
    "\n",
    "forward = parser('02. RiboSeq_EColi_track_f.wig', 4641668)\n",
    "reverse = parser('02. RiboSeq_EColi_track_r.wig', 4641668)"
   ]
  },
  {
   "cell_type": "code",
   "execution_count": 5,
   "metadata": {
    "id": "s8u_xyHQmm1M"
   },
   "outputs": [],
   "source": [
    "genbank_filename = \"sequence.gff3\"\n",
    "genbank_file = open(genbank_filename)\n",
    "records = list(GFF.parse(genbank_file, limit_info={\"gff_type\": [\"CDS\"]}))\n",
    "genbank_file.close()\n",
    "record = records[0]"
   ]
  },
  {
   "cell_type": "code",
   "execution_count": 6,
   "metadata": {
    "id": "KP5xjMEdmmxm"
   },
   "outputs": [],
   "source": [
    "features = []\n",
    "for feature in record.features:\n",
    "  if feature.type == \"CDS\":\n",
    "    features.append(feature)\n",
    "coverage_size = 120 # рассмотрим покрытие 120 нуклеотидов, тк на отдельном гене через IGV будет неинформативно\n",
    "gene_counts = {}\n",
    "pos_counts = np.zeros(coverage_size, dtype=np.float64)\n",
    "for feature in features:\n",
    "  if feature.location.strand > 0:\n",
    "    counts = forward\n",
    "  else:\n",
    "    counts = reverse\n",
    "  start, end = feature.location.nofuzzy_start, feature.location.nofuzzy_end\n",
    "  length = end - start\n",
    "  if length % 3 != 0:\n",
    "    raise Exception(\"Length is not devided by 3\") \n",
    "  gene_counts[feature.id] = counts[start:end].sum()\n",
    "  if length >= pos_counts.size:\n",
    "      s, e = start, start + pos_counts.size\n",
    "      pos_counts[:] = pos_counts[:] + counts[s:e]\n",
    "      "
   ]
  },
  {
   "cell_type": "code",
   "execution_count": 7,
   "metadata": {
    "colab": {
     "base_uri": "https://localhost:8080/",
     "height": 513
    },
    "id": "c-zpOmQub9fn",
    "outputId": "0cdb0186-aaa5-46e6-9c2b-6f28dfbd9981"
   },
   "outputs": [
    {
     "data": {
      "text/plain": [
       "Text(0.5, 0, 'position')"
      ]
     },
     "execution_count": 7,
     "metadata": {
      "tags": []
     },
     "output_type": "execute_result"
    },
    {
     "data": {
      "image/png": "[encoded data removed]",
      "text/plain": [
       "<Figure size 2160x576 with 1 Axes>"
      ]
     },
     "metadata": {
      "needs_background": "light",
      "tags": []
     },
     "output_type": "display_data"
    }
   ],
   "source": [
    "position = np.arange(pos_counts.size)\n",
    "color = ['black' if i % 3 == 1 else 'green' for i in position]\n",
    "fig = plt.figure(figsize = (30,8));\n",
    "ax = fig.add_subplot(121);\n",
    "xticks = np.arange(pos_counts.size, step=6);\n",
    "ax.bar(position, pos_counts, color = color);\n",
    "ax.grid();\n",
    "ax.set_xlabel(\"position\")"
   ]
  },
  {
   "cell_type": "markdown",
   "metadata": {
    "id": "vIhfb0tly7W-"
   },
   "source": [
    "В принципе, периодичность в 3 нуклеотида видна (где-то после 30 нуклеотида), то есть каждый 3-й чёрный пик выше, чем зелёный. \n",
    "\n",
    "Также самый высокий пик сдвинут и находится не в первом кодоне, что несколько странно.\n"
   ]
  },
  {
   "cell_type": "markdown",
   "metadata": {
    "id": "G3DEjh0zhl8w"
   },
   "source": [
    "2. Рассчитайте значения RPKM и TPM для каждого гена. В чём разница между RPKM и TPM? Для чего используется каждая метрика?"
   ]
  },
  {
   "cell_type": "markdown",
   "metadata": {
    "id": "42RQe4Sl44nF"
   },
   "source": [
    "RPKM - количество чтений на миллион килобаз\n",
    "\n",
    "TPM - количество транскриптов на миллион килобаз\n",
    "\n",
    "---\n",
    "\n",
    "Эти метрики используюся для нормализации глубины секвенирования и длины гена."
   ]
  },
  {
   "cell_type": "code",
   "execution_count": 13,
   "metadata": {
    "id": "muVpWA4UXSVy"
   },
   "outputs": [],
   "source": [
    "RPKM = {}\n",
    "TPM = {}\n",
    "library_size = sum(gene_counts.values())\n",
    "for feature in features:\n",
    "    start, end = feature.location.nofuzzy_start, feature.location.nofuzzy_end\n",
    "    length = end - start\n",
    "    if length % 3 != 0:\n",
    "      raise Exception(\"Length of feature is not devided by 3\") \n",
    "    RPKM[feature.id] = gene_counts[feature.id] * 10**9 / (library_size * length)\n",
    "    TPM[feature.id] = gene_counts[feature.id] * 10**6 / length\n",
    "    sum_val = sum(TPM.values())\n",
    "    TPM[feature.id] = TPM[feature.id] / sum_val"
   ]
  },
  {
   "cell_type": "markdown",
   "metadata": {
    "id": "Yq3z9eNzhm8-"
   },
   "source": [
    "3. Проанализируйте значения RPKM для генов из оперона ATP. Укажите геномные\n",
    "координаты оперона, а также то, какие гены в него входят. Есть ли разница между RPKM у различных генов, присутствующих в опероне? Как вы можете объяснить эту разницу с биологической точки зрения? Как вы думаете, можно ли оценить эту разницу при помощи классического RNA-Seq?"
   ]
  },
  {
   "cell_type": "code",
   "execution_count": 25,
   "metadata": {
    "colab": {
     "base_uri": "https://localhost:8080/"
    },
    "id": "--QEGrITXSYn",
    "outputId": "e6f03ab5-7cbe-48f2-b2b3-bd8830964766"
   },
   "outputs": [
    {
     "name": "stdout",
     "output_type": "stream",
     "text": [
      "id: cds-AAC75008.1\tloc:[2016553:2017927](+)\tproduct: ['flagellum-specific ATP synthase FliI']\n",
      "id: cds-AAC76754.1\tloc:[3915552:3915972](-)\tproduct: ['ATP synthase F1 complex subunit epsilon']\n",
      "id: cds-AAC76755.1\tloc:[3915992:3917375](-)\tproduct: ['ATP synthase F1 complex subunit beta']\n",
      "id: cds-AAC76756.1\tloc:[3917401:3918265](-)\tproduct: ['ATP synthase F1 complex subunit gamma']\n",
      "id: cds-AAC76757.1\tloc:[3918315:3919857](-)\tproduct: ['ATP synthase F1 complex subunit alpha']\n",
      "id: cds-AAC76758.1\tloc:[3919869:3920403](-)\tproduct: ['ATP synthase F1 complex subunit delta']\n",
      "id: cds-AAC76759.1\tloc:[3920417:3920888](-)\tproduct: ['ATP synthase Fo complex subunit b']\n",
      "id: cds-AAC76760.1\tloc:[3920949:3921189](-)\tproduct: ['ATP synthase Fo complex subunit c']\n",
      "id: cds-AAC76761.1\tloc:[3921235:3922051](-)\tproduct: ['ATP synthase Fo complex subunit a']\n",
      "id: cds-AAC76762.2\tloc:[3922059:3922440](-)\tproduct: ['ATP synthase accessory factor AtpI']\n"
     ]
    }
   ],
   "source": [
    "ATP = []\n",
    "for feature in features:\n",
    "  if \"ATP synthase\" in feature.qualifiers[\"product\"][0]:\n",
    "    ATP.append(feature) \n",
    "for f in ATP:\n",
    "    print(f\"id: {f.id}\" + f\"\\tloc:{f.location}\" + f\"\\tproduct: {f.qualifiers['product']}\")"
   ]
  },
  {
   "cell_type": "code",
   "execution_count": 26,
   "metadata": {
    "colab": {
     "base_uri": "https://localhost:8080/"
    },
    "id": "hDTQoWFRXSbv",
    "outputId": "e2d94e56-5436-478e-d8da-6d9bf6ae0500"
   },
   "outputs": [
    {
     "name": "stdout",
     "output_type": "stream",
     "text": [
      "ATP synthase F1 complex subunit epsilon RPKM: 1141.25772518656\n",
      "ATP synthase F1 complex subunit beta RPKM: 2526.824167189789\n",
      "ATP synthase F1 complex subunit gamma RPKM: 604.8768401142592\n",
      "ATP synthase F1 complex subunit alpha RPKM: 1964.8294829509189\n",
      "ATP synthase F1 complex subunit delta RPKM: 725.7274527231382\n",
      "ATP synthase Fo complex subunit b RPKM: 1130.6014870617732\n",
      "ATP synthase Fo complex subunit c RPKM: 12346.851339760828\n",
      "ATP synthase Fo complex subunit a RPKM: 1162.489084653384\n",
      "ATP synthase accessory factor AtpI RPKM: 55.119793183752\n"
     ]
    }
   ],
   "source": [
    "atp = ATP[1:]\n",
    "for gene in atp:\n",
    "    print(gene.qualifiers['product'][0] + \" RPKM: \" + str(RPKM[gene.id]))"
   ]
  },
  {
   "cell_type": "markdown",
   "metadata": {
    "id": "siTDKFgZwKRb"
   },
   "source": [
    "Здесь http://www.atpsynthase.info/FAQ.html я нашла понятное биологическое объяснение: расссмотрим ATP synthase Fo, которая содержит субъединицы  a (1), b (2) и c (10-15). Видна разница RPKM для различных субъединиц - у a и b практически одинаковое значение, у c - в ~10 раз больше. То есть Ribo-seq может рассматривать отдельно субъединицы рибосомы. Однако при помощи RNA-seq такие результаты мы бы не получили, потому что у прокариот считывался бы весь оперон (оперон ~ транскрипт). Поэтому при делении на длину оперона не получилось бы идентифицировать отдельные транскрипты, риды были бы равномерно распределены по всей длине."
   ]
  }
 ],
 "metadata": {
  "colab": {
   "collapsed_sections": [],
   "name": "RiboSeq.ipynb",
   "provenance": []
  },
  "kernelspec": {
   "display_name": "Python 3",
   "language": "python",
   "name": "python3"
  },
  "language_info": {
   "codemirror_mode": {
    "name": "ipython",
    "version": 3
   },
   "file_extension": ".py",
   "mimetype": "text/x-python",
   "name": "python",
   "nbconvert_exporter": "python",
   "pygments_lexer": "ipython3",
   "version": "3.7.3"
  }
 },
 "nbformat": 4,
 "nbformat_minor": 1
}
